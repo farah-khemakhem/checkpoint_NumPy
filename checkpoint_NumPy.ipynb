{
 "cells": [
  {
   "cell_type": "markdown",
   "metadata": {},
   "source": [
    "Question 1\n",
    "\n",
    "Write a Python program to convert an array to an ordinary list with the same items.\n",
    "\n",
    "we can use the np.tolist() function"
   ]
  },
  {
   "cell_type": "code",
   "execution_count": 30,
   "metadata": {},
   "outputs": [
    {
     "name": "stdout",
     "output_type": "stream",
     "text": [
      "[12, 23, 34, 56, 89, 74]\n"
     ]
    }
   ],
   "source": [
    "from array import *\n",
    "def convert_list (array):\n",
    "    list1=array.tolist()\n",
    "    print(list1)\n",
    "convert_list (array ('l', [12,23,34,56,89,74]))"
   ]
  },
  {
   "cell_type": "markdown",
   "metadata": {},
   "source": [
    " Question 2 \n",
    "\n",
    "Write a NumPy program to compute the sum of the diagonal element of a given array.\n"
   ]
  },
  {
   "cell_type": "code",
   "execution_count": 52,
   "metadata": {},
   "outputs": [
    {
     "name": "stdout",
     "output_type": "stream",
     "text": [
      "[[1 2 3]\n",
      " [4 5 6]\n",
      " [7 8 9]]\n",
      "15\n"
     ]
    }
   ],
   "source": [
    "import numpy as np\n",
    "diag_ele=np.array ([[1,2,3],[4,5,6],[7,8,9]])\n",
    "print(diag_ele)\n",
    "sum_diag= np.trace(diag_ele)\n",
    "print(sum_diag)"
   ]
  },
  {
   "cell_type": "markdown",
   "metadata": {},
   "source": [
    "Question 3\n",
    "\n",
    "Given an array of your choice, get all the values higher than X :\n",
    "\n",
    "if a = [[1,2],[3,5]] and x = 2 :  then 3 and 5 are higher than 2. "
   ]
  },
  {
   "cell_type": "code",
   "execution_count": 65,
   "metadata": {},
   "outputs": [
    {
     "name": "stdout",
     "output_type": "stream",
     "text": [
      "[[1, 2, 3], [4, 5, 6], [7, 8, 9]]\n",
      "[1 2 3 4 5 6 7 8 9]\n",
      "3 is higher then 2\n",
      "4 is higher then 2\n",
      "5 is higher then 2\n",
      "6 is higher then 2\n",
      "7 is higher then 2\n",
      "8 is higher then 2\n",
      "9 is higher then 2\n"
     ]
    }
   ],
   "source": [
    "import numpy as np\n",
    "from array import *\n",
    "diag_ele=np.array ([[1,2,3],[4,5,6],[7,8,9]])\n",
    "list1= diag_ele.tolist()\n",
    "print(list1)\n",
    "fusion= np.concatenate(list1)\n",
    "print(fusion)\n",
    "for i,e in enumerate(fusion):\n",
    "    if e>2:\n",
    "        print(e , \"is higher then 2\")  "
   ]
  },
  {
   "cell_type": "markdown",
   "metadata": {},
   "source": [
    "Question 4\n",
    "\n",
    "Given two arrays A&B having the same shape. \n",
    "\n",
    "The task is to apply addition by hand : C is the new array. "
   ]
  },
  {
   "cell_type": "code",
   "execution_count": 89,
   "metadata": {},
   "outputs": [
    {
     "name": "stdout",
     "output_type": "stream",
     "text": [
      "[[1 5 8 6]\n",
      " [4 5 8 7]]\n",
      "[[2 5 6 4]\n",
      " [8 9 3 1]]\n",
      "[3, 10, 14, 10]\n",
      "[12, 14, 11, 8]\n"
     ]
    }
   ],
   "source": [
    "A= np.array([1,5,8,6,4,5,8,7]).reshape(2,4)\n",
    "B=np.array([2,5,6,4,8,9,3,1]).reshape(2,4)\n",
    "print(A)\n",
    "print(B)\n",
    "C = [[0,0,0,0],[0,0,0,0]]\n",
    "for i in range(len(A)):   \n",
    "    for j in range(len(A[0])):\n",
    "        C[i][j] = A[i][j] + B[i][j]\n",
    "for new_array in C:\n",
    "    print(new_array)"
   ]
  },
  {
   "cell_type": "markdown",
   "metadata": {},
   "source": [
    "Question 5\n",
    "\n",
    "Write a NumPy program to subtract the mean of each row of a given matrix."
   ]
  },
  {
   "cell_type": "code",
   "execution_count": 98,
   "metadata": {},
   "outputs": [
    {
     "name": "stdout",
     "output_type": "stream",
     "text": [
      "[[-2.25  0.75  1.75 -0.25]\n",
      " [ 2.75  3.75 -2.25 -4.25]]\n"
     ]
    }
   ],
   "source": [
    "sub = B - B.mean(axis=1, keepdims=True) #conserve les dimensions (keepdims)\n",
    "print(sub)    "
   ]
  },
  {
   "cell_type": "code",
   "execution_count": null,
   "metadata": {},
   "outputs": [],
   "source": []
  }
 ],
 "metadata": {
  "kernelspec": {
   "display_name": "Python 3",
   "language": "python",
   "name": "python3"
  },
  "language_info": {
   "codemirror_mode": {
    "name": "ipython",
    "version": 3
   },
   "file_extension": ".py",
   "mimetype": "text/x-python",
   "name": "python",
   "nbconvert_exporter": "python",
   "pygments_lexer": "ipython3",
   "version": "3.8.3"
  }
 },
 "nbformat": 4,
 "nbformat_minor": 4
}
